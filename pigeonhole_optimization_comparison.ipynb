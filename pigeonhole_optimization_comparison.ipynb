{
 "metadata": {
  "language_info": {
   "codemirror_mode": {
    "name": "ipython",
    "version": 3
   },
   "file_extension": ".py",
   "mimetype": "text/x-python",
   "name": "python",
   "nbconvert_exporter": "python",
   "pygments_lexer": "ipython3",
   "version": "3.9.5"
  },
  "orig_nbformat": 2,
  "kernelspec": {
   "name": "python3",
   "display_name": "Python 3.9.5 64-bit"
  },
  "metadata": {
   "interpreter": {
    "hash": "814683cd0e67dd6d14af63f3a7af17076f7fa244e062f7240c136088d53d7072"
   }
  },
  "interpreter": {
   "hash": "814683cd0e67dd6d14af63f3a7af17076f7fa244e062f7240c136088d53d7072"
  }
 },
 "nbformat": 4,
 "nbformat_minor": 2,
 "cells": [
  {
   "cell_type": "code",
   "execution_count": 95,
   "metadata": {},
   "outputs": [],
   "source": [
    "import numpy as np\n",
    "from datetime import datetime\n",
    "import crystal_sort\n",
    "import math"
   ]
  },
  {
   "cell_type": "code",
   "execution_count": 96,
   "metadata": {},
   "outputs": [],
   "source": [
    "def get_rand_set(min: int, max: int, size: int):\n",
    "    set = np.random.randint(min, max, size=size)\n",
    "    set = set.tolist()\n",
    "    return set"
   ]
  },
  {
   "cell_type": "code",
   "execution_count": 97,
   "metadata": {},
   "outputs": [],
   "source": [
    "min     = 0\n",
    "max     = 10000\n",
    "size    = 10000"
   ]
  },
  {
   "cell_type": "code",
   "execution_count": 98,
   "metadata": {},
   "outputs": [],
   "source": [
    "input_bucket = get_rand_set(min, max, size)"
   ]
  },
  {
   "cell_type": "code",
   "execution_count": 99,
   "metadata": {},
   "outputs": [],
   "source": [
    "start_sort_nopgh = datetime.utcnow()\n",
    "output_bucket_nopgh = crystal_sort.sort(input_bucket, False)\n",
    "end_sort_nopgh = datetime.utcnow()"
   ]
  },
  {
   "cell_type": "code",
   "execution_count": 100,
   "metadata": {},
   "outputs": [],
   "source": [
    "start_sort_pgh = datetime.utcnow()\n",
    "output_bucket_pgh = crystal_sort.sort(input_bucket, True)\n",
    "end_sort_pgh = datetime.utcnow()"
   ]
  },
  {
   "cell_type": "code",
   "execution_count": 101,
   "metadata": {},
   "outputs": [
    {
     "output_type": "stream",
     "name": "stdout",
     "text": [
      "size:            10000\nvalue mag:       10000\n(values: 0..10000)\nwithout / with pigeonhole optimization \ntime: 0:00:02.776571 / 0:00:03.249534 (117.03 %)\n"
     ]
    }
   ],
   "source": [
    "if output_bucket_pgh == sorted(input_bucket) and output_bucket_nopgh == sorted(input_bucket):\n",
    "    nophg_time = end_sort_nopgh - start_sort_nopgh\n",
    "    phg_time = end_sort_pgh - start_sort_pgh\n",
    "    mag = max - min\n",
    "    size_str = str(size)\n",
    "    mag_str = str(mag)\n",
    "    if len(mag_str) > len(size_str):\n",
    "        padding = len(mag_str)\n",
    "    else:\n",
    "        padding = len(size_str)\n",
    "    size_str = size_str.rjust(padding + len('value mag: '))\n",
    "    mag_str = mag_str.rjust(padding + len('size: '))\n",
    "    print(f'size: {size_str}')\n",
    "    print(f'value mag: {mag_str}')\n",
    "    print(f'(values: {min}..{max})')\n",
    "    print('without / with pigeonhole optimization ')\n",
    "    print(f'time: {nophg_time} / {phg_time} ({phg_time / nophg_time * 100:.2f} %)')\n",
    "else:\n",
    "    print('FAIL')"
   ]
  },
  {
   "cell_type": "code",
   "execution_count": null,
   "metadata": {},
   "outputs": [],
   "source": []
  }
 ]
}