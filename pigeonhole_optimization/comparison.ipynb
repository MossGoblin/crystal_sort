{
 "metadata": {
  "language_info": {
   "codemirror_mode": {
    "name": "ipython",
    "version": 3
   },
   "file_extension": ".py",
   "mimetype": "text/x-python",
   "name": "python",
   "nbconvert_exporter": "python",
   "pygments_lexer": "ipython3",
   "version": "3.9.5"
  },
  "orig_nbformat": 2,
  "kernelspec": {
   "name": "python395jvsc74a57bd02f613553fa295e4d598794defe02532b2df0daebbb0e9b1f07cf4d71ea5acc0e",
   "display_name": "Python 3.9.5 64-bit ('toolbox': conda)"
  }
 },
 "nbformat": 4,
 "nbformat_minor": 2,
 "cells": [
  {
   "cell_type": "code",
   "execution_count": 45,
   "metadata": {},
   "outputs": [],
   "source": [
    "'''\n",
    "min/max:\n",
    "range of possible values for each element of the array\n",
    "\n",
    "size:\n",
    "size of the array\n",
    "\n",
    "modes:\n",
    "0 - random array\n",
    "1 - ordered array\n",
    "2 - reversed ordered array\n",
    "'''\n",
    "\n",
    "min = 1\n",
    "max = 1000\n",
    "size = 1000\n",
    "mode = 00"
   ]
  },
  {
   "cell_type": "code",
   "execution_count": 38,
   "metadata": {},
   "outputs": [],
   "source": [
    "import crystal_sort as cs\n",
    "import crystal_sort_pigeonhole as cp"
   ]
  },
  {
   "cell_type": "code",
   "execution_count": 39,
   "metadata": {},
   "outputs": [],
   "source": [
    "from datetime import datetime\n",
    "import numpy as np"
   ]
  },
  {
   "cell_type": "code",
   "execution_count": 40,
   "metadata": {},
   "outputs": [],
   "source": [
    "def get_rand_set(min: int, max: int, size: int):\n",
    "    numset = np.random.randint(min, max, size)\n",
    "    \n",
    "    numset = numset.tolist()\n",
    "    return numset"
   ]
  },
  {
   "cell_type": "code",
   "execution_count": 41,
   "metadata": {},
   "outputs": [],
   "source": [
    "if mode == 0:\n",
    "    bucket = get_rand_set(min, max, size)\n",
    "    mode_str = 'random'\n",
    "elif mode == 1:\n",
    "    bucket = [*range(min, max)]\n",
    "    mode_str = 'ordered'\n",
    "else:\n",
    "    bucket.reverse()\n",
    "    mode_str = 'reversed'"
   ]
  },
  {
   "cell_type": "code",
   "execution_count": 42,
   "metadata": {},
   "outputs": [],
   "source": [
    "cs_run_start = datetime.utcnow()\n",
    "cs_bucket, cs_passes, cs_comparisons, cs_swaps = cs.sort(bucket)\n",
    "cs_run_end = datetime.utcnow()\n",
    "cs_time = cs_run_end - cs_run_start"
   ]
  },
  {
   "cell_type": "code",
   "execution_count": 43,
   "metadata": {},
   "outputs": [],
   "source": [
    "cp_run_start = datetime.utcnow()\n",
    "cp_bucket, cp_passes, cp_comparisons, cp_swaps = cp.sort(bucket)\n",
    "cp_run_end = datetime.utcnow()\n",
    "cp_time = cp_run_end - cp_run_start"
   ]
  },
  {
   "cell_type": "code",
   "execution_count": 44,
   "metadata": {},
   "outputs": [
    {
     "output_type": "stream",
     "name": "stdout",
     "text": [
      "100 runs: 1..100\nrandom\ntime: 0:00:00.002001 / 0:00:00.001998 (99.85 %)\npasses: 2500 / 3368 (134.72 %)\ncomparisons: 5104 / 4857 (95.16 %)\nswaps: 746 / 438 (58.71 %)\n"
     ]
    }
   ],
   "source": [
    "print(f'{size} runs: {min}..{max}')\n",
    "print(mode_str)\n",
    "if cs_time != 0:\n",
    "    print(f'time: {cs_time} / {cp_time} ({cp_time / cs_time * 100 :.2f} %)')\n",
    "if cs_passes != 0:\n",
    "    print(f'passes: {cs_passes} / {cp_passes} ({cp_passes / cs_passes * 100 :.2f} %)')\n",
    "else:\n",
    "    print(f'passes: {cs_passes} / {cp_passes}')\n",
    "\n",
    "if cs_comparisons != 0:\n",
    "    print(f'comparisons: {cs_comparisons} / {cp_comparisons} ({cp_comparisons / cs_comparisons * 100 :.2f} %)')\n",
    "else:\n",
    "    print(f'comparisons: {cs_comparisons} / {cp_comparisons}')\n",
    "\n",
    "if cs_swaps != 0:\n",
    "    print(f'swaps: {cs_swaps} / {cp_swaps} ({cp_swaps / cs_swaps * 100 :.2f} %)')\n",
    "else: \n",
    "    print(f'swaps: {cs_swaps} / {cp_swaps}')"
   ]
  },
  {
   "cell_type": "code",
   "execution_count": null,
   "metadata": {},
   "outputs": [],
   "source": []
  }
 ]
}