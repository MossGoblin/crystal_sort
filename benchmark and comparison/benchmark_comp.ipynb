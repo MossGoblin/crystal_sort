{
 "metadata": {
  "language_info": {
   "codemirror_mode": {
    "name": "ipython",
    "version": 3
   },
   "file_extension": ".py",
   "mimetype": "text/x-python",
   "name": "python",
   "nbconvert_exporter": "python",
   "pygments_lexer": "ipython3",
   "version": "3.9.5"
  },
  "orig_nbformat": 4,
  "kernelspec": {
   "name": "python3",
   "display_name": "Python 3.9.5 64-bit"
  },
  "interpreter": {
   "hash": "814683cd0e67dd6d14af63f3a7af17076f7fa244e062f7240c136088d53d7072"
  }
 },
 "nbformat": 4,
 "nbformat_minor": 2,
 "cells": [
  {
   "cell_type": "code",
   "execution_count": 81,
   "metadata": {},
   "outputs": [],
   "source": [
    "# Code for sort algorythims in sort_collection is copied from:\n",
    "# https://stackabuse.com/sorting-algorithms-in-python"
   ]
  },
  {
   "cell_type": "code",
   "execution_count": 82,
   "metadata": {},
   "outputs": [],
   "source": [
    "import numpy as np\n",
    "from datetime import datetime\n",
    "import pandas as pd"
   ]
  },
  {
   "cell_type": "code",
   "execution_count": 83,
   "metadata": {},
   "outputs": [],
   "source": [
    "import sort_collection as sc\n",
    "import crystal_sort"
   ]
  },
  {
   "cell_type": "code",
   "execution_count": 84,
   "metadata": {},
   "outputs": [],
   "source": [
    "runs    = 100\n",
    "min     = 0\n",
    "max     = 10000\n",
    "size    = 10000"
   ]
  },
  {
   "cell_type": "code",
   "execution_count": 85,
   "metadata": {},
   "outputs": [],
   "source": [
    "def get_rand_set(min: int, max: int, size: int):\n",
    "    set = np.random.randint(min, max, size=size)\n",
    "    set = set.tolist()\n",
    "    return set"
   ]
  },
  {
   "cell_type": "code",
   "execution_count": 86,
   "metadata": {},
   "outputs": [],
   "source": [
    "algorithm_list = [\n",
    "    'crystal_sort',\n",
    "    'selection_sort',\n",
    "    'insertion_sort',\n",
    "    'heap_sort',\n",
    "    'merge_sort',\n",
    "    'quick_sort',\n",
    "]"
   ]
  },
  {
   "cell_type": "code",
   "execution_count": 87,
   "metadata": {},
   "outputs": [],
   "source": [
    "results = {}"
   ]
  },
  {
   "cell_type": "code",
   "execution_count": 88,
   "metadata": {},
   "outputs": [],
   "source": [
    "buckets = []\n",
    "for run in range(runs + 1):\n",
    "    bucket = get_rand_set(min, max, size)\n",
    "    # bucket = [1] * 1000\n",
    "buckets.append(bucket)"
   ]
  },
  {
   "cell_type": "code",
   "execution_count": 89,
   "metadata": {},
   "outputs": [
    {
     "output_type": "error",
     "ename": "KeyboardInterrupt",
     "evalue": "",
     "traceback": [
      "\u001b[1;31m---------------------------------------------------------------------------\u001b[0m",
      "\u001b[1;31mKeyboardInterrupt\u001b[0m                         Traceback (most recent call last)",
      "\u001b[1;32m<ipython-input-89-17cb0eb65e67>\u001b[0m in \u001b[0;36m<module>\u001b[1;34m\u001b[0m\n\u001b[0;32m     16\u001b[0m             \u001b[0mmethod_to_call\u001b[0m \u001b[1;33m=\u001b[0m \u001b[0mgetattr\u001b[0m\u001b[1;33m(\u001b[0m\u001b[0mcrystal_sort\u001b[0m\u001b[1;33m,\u001b[0m \u001b[1;34m'sort'\u001b[0m\u001b[1;33m)\u001b[0m\u001b[1;33m\u001b[0m\u001b[1;33m\u001b[0m\u001b[0m\n\u001b[0;32m     17\u001b[0m             \u001b[0mstart\u001b[0m \u001b[1;33m=\u001b[0m \u001b[0mdatetime\u001b[0m\u001b[1;33m.\u001b[0m\u001b[0mutcnow\u001b[0m\u001b[1;33m(\u001b[0m\u001b[1;33m)\u001b[0m\u001b[1;33m\u001b[0m\u001b[1;33m\u001b[0m\u001b[0m\n\u001b[1;32m---> 18\u001b[1;33m             \u001b[0mresult\u001b[0m \u001b[1;33m=\u001b[0m \u001b[0mmethod_to_call\u001b[0m\u001b[1;33m(\u001b[0m\u001b[0mbucket\u001b[0m\u001b[1;33m,\u001b[0m \u001b[1;32mTrue\u001b[0m\u001b[1;33m)\u001b[0m\u001b[1;33m\u001b[0m\u001b[1;33m\u001b[0m\u001b[0m\n\u001b[0m\u001b[0;32m     19\u001b[0m             \u001b[0mend\u001b[0m \u001b[1;33m=\u001b[0m \u001b[0mdatetime\u001b[0m\u001b[1;33m.\u001b[0m\u001b[0mutcnow\u001b[0m\u001b[1;33m(\u001b[0m\u001b[1;33m)\u001b[0m\u001b[1;33m\u001b[0m\u001b[1;33m\u001b[0m\u001b[0m\n\u001b[0;32m     20\u001b[0m             \u001b[0mresults\u001b[0m\u001b[1;33m[\u001b[0m\u001b[1;34m'crystal_sort_pgh'\u001b[0m\u001b[1;33m]\u001b[0m\u001b[1;33m[\u001b[0m\u001b[0mtime_field_name\u001b[0m\u001b[1;33m]\u001b[0m \u001b[1;33m+=\u001b[0m \u001b[1;33m(\u001b[0m\u001b[0mend\u001b[0m \u001b[1;33m-\u001b[0m \u001b[0mstart\u001b[0m\u001b[1;33m)\u001b[0m\u001b[1;33m.\u001b[0m\u001b[0mmicroseconds\u001b[0m\u001b[1;33m\u001b[0m\u001b[1;33m\u001b[0m\u001b[0m\n",
      "\u001b[1;32md:\\Codee\\crystal_sort\\benchmark and comparison\\crystal_sort.py\u001b[0m in \u001b[0;36msort\u001b[1;34m(incoming_bucket, duplicates)\u001b[0m\n\u001b[0;32m     61\u001b[0m     \u001b[0minitial_bracket\u001b[0m \u001b[1;33m=\u001b[0m \u001b[1;32mTrue\u001b[0m\u001b[1;33m\u001b[0m\u001b[1;33m\u001b[0m\u001b[0m\n\u001b[0;32m     62\u001b[0m     \u001b[1;32mwhile\u001b[0m \u001b[0mlen\u001b[0m\u001b[1;33m(\u001b[0m\u001b[0mremainder\u001b[0m\u001b[1;33m)\u001b[0m \u001b[1;33m>\u001b[0m \u001b[1;36m1\u001b[0m\u001b[1;33m:\u001b[0m\u001b[1;33m\u001b[0m\u001b[1;33m\u001b[0m\u001b[0m\n\u001b[1;32m---> 63\u001b[1;33m         lower_value, upper_value, remainder = bracket(\n\u001b[0m\u001b[0;32m     64\u001b[0m             remainder, initial_bracket, lower_value, upper_value)\n\u001b[0;32m     65\u001b[0m         \u001b[0minitial_bracket\u001b[0m \u001b[1;33m=\u001b[0m \u001b[1;32mFalse\u001b[0m\u001b[1;33m\u001b[0m\u001b[1;33m\u001b[0m\u001b[0m\n",
      "\u001b[1;32md:\\Codee\\crystal_sort\\benchmark and comparison\\crystal_sort.py\u001b[0m in \u001b[0;36mbracket\u001b[1;34m(subset, initial_bracket, lower_value, upper_value)\u001b[0m\n\u001b[0;32m      9\u001b[0m         \u001b[0msearch_upper\u001b[0m \u001b[1;33m=\u001b[0m \u001b[1;32mTrue\u001b[0m\u001b[1;33m\u001b[0m\u001b[1;33m\u001b[0m\u001b[0m\n\u001b[0;32m     10\u001b[0m         \u001b[1;32mfor\u001b[0m \u001b[0mindex\u001b[0m \u001b[1;32min\u001b[0m \u001b[0mrange\u001b[0m\u001b[1;33m(\u001b[0m\u001b[1;36m0\u001b[0m\u001b[1;33m,\u001b[0m \u001b[0mlen\u001b[0m\u001b[1;33m(\u001b[0m\u001b[0msubset\u001b[0m\u001b[1;33m)\u001b[0m\u001b[1;33m)\u001b[0m\u001b[1;33m:\u001b[0m\u001b[1;33m\u001b[0m\u001b[1;33m\u001b[0m\u001b[0m\n\u001b[1;32m---> 11\u001b[1;33m             \u001b[0mseed\u001b[0m \u001b[1;33m=\u001b[0m \u001b[0msubset\u001b[0m\u001b[1;33m[\u001b[0m\u001b[0mindex\u001b[0m\u001b[1;33m]\u001b[0m\u001b[1;33m\u001b[0m\u001b[1;33m\u001b[0m\u001b[0m\n\u001b[0m\u001b[0;32m     12\u001b[0m             \u001b[1;32mif\u001b[0m \u001b[0msearch_upper\u001b[0m \u001b[1;32mand\u001b[0m \u001b[0mseed\u001b[0m \u001b[1;33m>\u001b[0m \u001b[0msubset\u001b[0m\u001b[1;33m[\u001b[0m\u001b[1;33m-\u001b[0m\u001b[1;36m1\u001b[0m\u001b[1;33m]\u001b[0m\u001b[1;33m:\u001b[0m\u001b[1;33m\u001b[0m\u001b[1;33m\u001b[0m\u001b[0m\n\u001b[0;32m     13\u001b[0m                 \u001b[0msubset\u001b[0m\u001b[1;33m[\u001b[0m\u001b[0mindex\u001b[0m\u001b[1;33m]\u001b[0m\u001b[1;33m,\u001b[0m \u001b[0msubset\u001b[0m\u001b[1;33m[\u001b[0m\u001b[1;33m-\u001b[0m\u001b[1;36m1\u001b[0m\u001b[1;33m]\u001b[0m \u001b[1;33m=\u001b[0m \u001b[0msubset\u001b[0m\u001b[1;33m[\u001b[0m\u001b[1;33m-\u001b[0m\u001b[1;36m1\u001b[0m\u001b[1;33m]\u001b[0m\u001b[1;33m,\u001b[0m \u001b[0msubset\u001b[0m\u001b[1;33m[\u001b[0m\u001b[0mindex\u001b[0m\u001b[1;33m]\u001b[0m\u001b[1;33m\u001b[0m\u001b[1;33m\u001b[0m\u001b[0m\n",
      "\u001b[1;31mKeyboardInterrupt\u001b[0m: "
     ]
    }
   ],
   "source": [
    "time_field_name = 'time (microsecods)'\n",
    "for algorithm_name in algorithm_list:\n",
    "    results[algorithm_name] = {}\n",
    "    results[algorithm_name][time_field_name] = 0\n",
    "    results['crystal_sort_pgh'] = {}\n",
    "    results['crystal_sort_pgh'][time_field_name] = 0\n",
    "for run in range(runs + 1):\n",
    "    for algorithm_name in algorithm_list:\n",
    "        if algorithm_name == 'crystal_sort':\n",
    "            method_to_call = getattr(crystal_sort, 'sort')\n",
    "            start = datetime.utcnow()\n",
    "            result = method_to_call(bucket, False)\n",
    "            end = datetime.utcnow()\n",
    "            results['crystal_sort'][time_field_name] += (end - start).microseconds\n",
    "\n",
    "            method_to_call = getattr(crystal_sort, 'sort')\n",
    "            start = datetime.utcnow()\n",
    "            result = method_to_call(bucket, True)\n",
    "            end = datetime.utcnow()\n",
    "            results['crystal_sort_pgh'][time_field_name] += (end - start).microseconds\n",
    "        else:\n",
    "            method_to_call = getattr(sc, algorithm_name)\n",
    "            start = datetime.utcnow()\n",
    "            result = method_to_call(bucket)\n",
    "            end = datetime.utcnow()\n",
    "            results[algorithm_name][time_field_name] += (end - start).microseconds\n",
    "\n",
    "for algorithm_name in algorithm_list:\n",
    "    results[algorithm_name][time_field_name] = results[algorithm_name][time_field_name] / runs\n",
    "    if algorithm_name == 'crystal_sort':\n",
    "        results['crystal_sort_pgh'][time_field_name] = results['crystal_sort_pgh'][time_field_name] / runs"
   ]
  },
  {
   "cell_type": "code",
   "execution_count": 80,
   "metadata": {},
   "outputs": [
    {
     "output_type": "stream",
     "name": "stdout",
     "text": [
      "                  time (microsecods)\ncrystal_sort                22634.18\ncrystal_sort_pgh              451.46\nheap_sort                     604.53\ninsertion_sort                 59.98\nmerge_sort                   1806.02\nquick_sort                   1343.01\nselection_sort              22947.32\n"
     ]
    }
   ],
   "source": [
    "df = pd.DataFrame().from_dict(results, orient='index')\n",
    "\n",
    "print(df)\n",
    "file_name = f'results_{runs:02}_runs_{size}_{max}.csv'\n",
    "df.to_csv(file_name)"
   ]
  },
  {
   "cell_type": "code",
   "execution_count": null,
   "metadata": {},
   "outputs": [],
   "source": []
  }
 ]
}