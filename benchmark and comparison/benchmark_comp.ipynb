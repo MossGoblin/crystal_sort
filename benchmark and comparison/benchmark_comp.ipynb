{
 "metadata": {
  "language_info": {
   "codemirror_mode": {
    "name": "ipython",
    "version": 3
   },
   "file_extension": ".py",
   "mimetype": "text/x-python",
   "name": "python",
   "nbconvert_exporter": "python",
   "pygments_lexer": "ipython3",
   "version": "3.9.5"
  },
  "orig_nbformat": 4,
  "kernelspec": {
   "name": "python3",
   "display_name": "Python 3.9.5 64-bit"
  },
  "interpreter": {
   "hash": "814683cd0e67dd6d14af63f3a7af17076f7fa244e062f7240c136088d53d7072"
  }
 },
 "nbformat": 4,
 "nbformat_minor": 2,
 "cells": [
  {
   "cell_type": "code",
   "execution_count": 1,
   "metadata": {},
   "outputs": [],
   "source": [
    "# Code for sort algorythims in sort_collection is copied from:\n",
    "# https://stackabuse.com/sorting-algorithms-in-python"
   ]
  },
  {
   "cell_type": "code",
   "execution_count": 2,
   "metadata": {},
   "outputs": [],
   "source": [
    "import numpy as np\n",
    "from datetime import datetime\n",
    "import pandas as pd"
   ]
  },
  {
   "cell_type": "code",
   "execution_count": 3,
   "metadata": {},
   "outputs": [],
   "source": [
    "import sort_collection as sc\n",
    "import crystal_sort"
   ]
  },
  {
   "cell_type": "code",
   "execution_count": 4,
   "metadata": {},
   "outputs": [],
   "source": [
    "runs    = 100\n",
    "min     = 0\n",
    "max     = 10\n",
    "size    = 1000"
   ]
  },
  {
   "cell_type": "code",
   "execution_count": 5,
   "metadata": {},
   "outputs": [],
   "source": [
    "def get_rand_set(min: int, max: int, size: int):\n",
    "    set = np.random.randint(min, max, size=size)\n",
    "    set = set.tolist()\n",
    "    return set"
   ]
  },
  {
   "cell_type": "code",
   "execution_count": 6,
   "metadata": {},
   "outputs": [],
   "source": [
    "algorithm_list = [\n",
    "    'crystal_sort',\n",
    "    'selection_sort',\n",
    "    'insertion_sort',\n",
    "    'heap_sort',\n",
    "    'merge_sort',\n",
    "    'quick_sort',\n",
    "]"
   ]
  },
  {
   "cell_type": "code",
   "execution_count": 7,
   "metadata": {},
   "outputs": [],
   "source": [
    "results = {}"
   ]
  },
  {
   "cell_type": "code",
   "execution_count": 8,
   "metadata": {},
   "outputs": [],
   "source": [
    "buckets = []\n",
    "for run in range(runs + 1):\n",
    "    # bucket = get_rand_set(min, max, size)\n",
    "    bucket = [1] * 1000\n",
    "buckets.append(bucket)"
   ]
  },
  {
   "cell_type": "code",
   "execution_count": 9,
   "metadata": {},
   "outputs": [],
   "source": [
    "time_field_name = 'time (microsecods)'\n",
    "for algorithm_name in algorithm_list:\n",
    "    results[algorithm_name] = {}\n",
    "    results[algorithm_name][time_field_name] = 0\n",
    "    results['crystal_sort_pgh'] = {}\n",
    "    results['crystal_sort_pgh'][time_field_name] = 0\n",
    "for run in range(runs + 1):\n",
    "    for algorithm_name in algorithm_list:\n",
    "        if algorithm_name == 'crystal_sort':\n",
    "            method_to_call = getattr(crystal_sort, 'sort')\n",
    "            start = datetime.utcnow()\n",
    "            result = method_to_call(bucket, False)\n",
    "            end = datetime.utcnow()\n",
    "            results['crystal_sort'][time_field_name] += (end - start).microseconds\n",
    "\n",
    "            method_to_call = getattr(crystal_sort, 'sort')\n",
    "            start = datetime.utcnow()\n",
    "            result = method_to_call(bucket, True)\n",
    "            end = datetime.utcnow()\n",
    "            results['crystal_sort_pgh'][time_field_name] += (end - start).microseconds\n",
    "        else:\n",
    "            method_to_call = getattr(sc, algorithm_name)\n",
    "            start = datetime.utcnow()\n",
    "            result = method_to_call(bucket)\n",
    "            end = datetime.utcnow()\n",
    "            results[algorithm_name][time_field_name] += (end - start).microseconds\n",
    "\n",
    "for algorithm_name in algorithm_list:\n",
    "    results[algorithm_name][time_field_name] = results[algorithm_name][time_field_name] / runs\n",
    "    if algorithm_name == 'crystal_sort':\n",
    "        results['crystal_sort_pgh'][time_field_name] = results['crystal_sort_pgh'][time_field_name] / runs"
   ]
  },
  {
   "cell_type": "code",
   "execution_count": 10,
   "metadata": {},
   "outputs": [
    {
     "output_type": "stream",
     "name": "stdout",
     "text": [
      "                  time (microsecods)\ncrystal_sort                26053.29\ncrystal_sort_pgh              446.59\nheap_sort                     613.70\ninsertion_sort                 40.16\nmerge_sort                   1667.73\nquick_sort                   1766.97\nselection_sort              24476.01\n"
     ]
    }
   ],
   "source": [
    "df = pd.DataFrame().from_dict(results, orient='index')\n",
    "\n",
    "print(df)\n",
    "file_name = f'results_{runs:02}_runs_{size}_{max}.csv'\n",
    "df.to_csv(file_name)"
   ]
  },
  {
   "cell_type": "code",
   "execution_count": null,
   "metadata": {},
   "outputs": [],
   "source": []
  }
 ]
}